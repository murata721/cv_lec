{
 "cells": [
  {
   "cell_type": "code",
   "execution_count": null,
   "metadata": {},
   "outputs": [],
   "source": [
    "import numpy as np\n",
    "import cv2\n",
    "import matplotlib.pyplot as plt\n",
    "import pathlib"
   ]
  },
  {
   "cell_type": "code",
   "execution_count": null,
   "metadata": {},
   "outputs": [],
   "source": [
    "# view\n",
    "def draw_pts(img, pts, colors):\n",
    "    for pt, color in zip(pts, colors):\n",
    "        img = cv2.circle(img, (pt[0],pt[1]), 12*2, (int(color[0]), int(color[1]), int(color[2])), -1)\n",
    "    return img\n",
    "\n",
    "def write_number(img, pts, colors):\n",
    "    font = cv2.FONT_HERSHEY_SIMPLEX\n",
    "    for i in range(len(pts)):\n",
    "        img = cv2.putText(img, str(i), tuple(pts[i,:]), font, 4, \n",
    "                          (int(colors[i,0]), int(colors[i,1]), int(colors[i,2])), 10, cv2.LINE_AA)\n",
    "    return img\n",
    "\n",
    "def rand_color(length):\n",
    "    return np.random.randint(100, 255, (length, 3))\n",
    "\n",
    "def draw_line(img, lines_s, lines_f, colors):\n",
    "    for line_s, line_f, color in zip(lines_s, lines_f, colors):\n",
    "        img = cv2.line(img, tuple(line_s), tuple(line_f), (int(color[0]), int(color[1]), int(color[2])), 5)\n",
    "    return img"
   ]
  },
  {
   "cell_type": "code",
   "execution_count": null,
   "metadata": {},
   "outputs": [],
   "source": [
    "# 処理\n",
    "def A_mat(pts1, pts2):\n",
    "    A = np.zeros((len(pts1), 9))\n",
    "    i = 0\n",
    "    for pt1, pt2 in zip(pts1, pts2):\n",
    "        x1, y1, x2, y2 = pt1[0], pt1[1], pt2[0], pt2[1]\n",
    "        A[i, 0] = x1*x2\n",
    "        A[i, 1] = x1*y2\n",
    "        A[i, 2] = x1\n",
    "        A[i, 3] = x2*y1\n",
    "        A[i, 4] = y1*y2\n",
    "        A[i, 5] = y1\n",
    "        A[i, 6] = x2\n",
    "        A[i, 7] = y2\n",
    "        A[i, 8] = 1\n",
    "        i += 1\n",
    "    return A\n",
    "\n",
    "def cal_F(A):\n",
    "    # Vの転置の仕様\n",
    "    U, s, V = np.linalg.svd(A, full_matrices=False)\n",
    "    f_idx = np.argmin(np.sum(np.abs(np.dot(A, V.T)),axis=0))\n",
    "    F = V[-1, :].reshape((3,3))\n",
    "    #print(F)\n",
    "    return F\n",
    "\n",
    "def reconst_F(F):\n",
    "    U, s, V = np.linalg.svd(F, full_matrices=False)\n",
    "    s[2]=0\n",
    "    return np.dot(np.dot(U, np.diag(s)),V)\n",
    "\n",
    "def pts_add_one(pts):\n",
    "    add_ones = np.ones((len(pts),1))\n",
    "    return np.concatenate((pts, add_ones), axis=1)\n",
    "\n",
    "def cal_lines(img_width, paras):\n",
    "    lines_s = []\n",
    "    lines_f = []\n",
    "    for a,b,c in paras:\n",
    "        start = tuple(map(int, [0, -(c/b)]))\n",
    "        fin = tuple(map(int, [img_width, -(a/b)*img_width-(c/b)]))\n",
    "        lines_s.append(start)\n",
    "        lines_f.append(fin)\n",
    "    return lines_s, lines_f"
   ]
  },
  {
   "cell_type": "code",
   "execution_count": null,
   "metadata": {},
   "outputs": [],
   "source": [
    "def save_img(img, name):\n",
    "    img = cv2.cvtColor(img, cv2.COLOR_RGB2BGR)\n",
    "    cv2.imwrite(name, img)"
   ]
  },
  {
   "cell_type": "markdown",
   "metadata": {},
   "source": [
    "# 同じ物体上の点での8点アルゴリズム"
   ]
  },
  {
   "cell_type": "code",
   "execution_count": null,
   "metadata": {},
   "outputs": [],
   "source": [
    "# 画像\n",
    "c_left_img = cv2.imread('image/c_left.jpg')\n",
    "c_left_img = cv2.cvtColor(c_left_img, cv2.COLOR_BGR2RGB)\n",
    "plt.figure(figsize=(15,15))\n",
    "plt.axis(\"off\")\n",
    "plt.imshow(c_left_img)\n",
    "save_img(c_left_img, \"made_image/c_left_img.png\")"
   ]
  },
  {
   "cell_type": "code",
   "execution_count": null,
   "metadata": {},
   "outputs": [],
   "source": [
    "c_right_img = cv2.imread('image/c_right.jpg')\n",
    "c_right_img = cv2.cvtColor(c_right_img, cv2.COLOR_BGR2RGB)\n",
    "plt.figure(figsize=(15,15))\n",
    "plt.axis(\"off\")\n",
    "plt.imshow(c_right_img)\n",
    "save_img(c_right_img,\"made_image/c_right_img.png\")"
   ]
  },
  {
   "cell_type": "code",
   "execution_count": null,
   "metadata": {},
   "outputs": [],
   "source": [
    "# 8点，13点で計算．最後の三つは検証用\n",
    "c_left_csv = np.loadtxt(\"csv/c_left.csv\", delimiter=',').astype(np.uint32)\n",
    "c_right_csv = np.loadtxt(\"csv/c_right.csv\", delimiter=',').astype(np.uint32)\n",
    "c_left_8 = c_left_csv[:8,:]\n",
    "c_left_13 = c_left_csv[:13,:]\n",
    "c_left_check = c_left_csv[13:,:]\n",
    "c_right_8 = c_right_csv[:8,:]\n",
    "c_right_13 = c_right_csv[:13,:]\n",
    "c_right_check = c_right_csv[13:,:]"
   ]
  },
  {
   "cell_type": "markdown",
   "metadata": {},
   "source": [
    "## 8点で計算"
   ]
  },
  {
   "cell_type": "code",
   "execution_count": null,
   "metadata": {},
   "outputs": [],
   "source": [
    "# 8点の位置（左）\n",
    "colors = rand_color(len(c_left_8))\n",
    "pted_c_left = draw_pts(np.copy(c_left_img), c_left_8, colors)\n",
    "pted_c_left = write_number(np.copy(pted_c_left), c_left_8, colors)\n",
    "plt.figure(figsize=(15,15))\n",
    "plt.axis(\"off\")\n",
    "plt.imshow(pted_c_left)\n",
    "save_img(pted_c_left,\"made_image/8pted_c_left.png\")"
   ]
  },
  {
   "cell_type": "code",
   "execution_count": null,
   "metadata": {},
   "outputs": [],
   "source": [
    "pted_c_right = draw_pts(np.copy(c_right_img), c_right_8, colors)\n",
    "pted_c_right = write_number(np.copy(pted_c_right), c_right_8, colors)\n",
    "plt.figure(figsize=(15,15))\n",
    "plt.axis(\"off\")\n",
    "plt.imshow(pted_c_right)\n",
    "save_img(pted_c_right, \"made_image/8pted_c_right.png\")"
   ]
  },
  {
   "cell_type": "code",
   "execution_count": null,
   "metadata": {
    "scrolled": true
   },
   "outputs": [],
   "source": [
    "# Fの計算\n",
    "A = A_mat(c_left_8, c_right_8)\n",
    "F = cal_F(A)\n",
    "re_F = reconst_F(F)\n",
    "F_det = np.linalg.det(re_F)\n",
    "F_eig, v = np.linalg.eig(re_F)\n",
    "print(F_det)\n",
    "print(\"\")\n",
    "print(F_eig)\n",
    "print(\"\")\n",
    "print(re_F)\n",
    "np.savetxt('F_mat/c8_F_mat.csv', re_F, delimiter=',', fmt='%f')"
   ]
  },
  {
   "cell_type": "code",
   "execution_count": null,
   "metadata": {},
   "outputs": [],
   "source": [
    "# m1 F m2 = 0 の確認\n",
    "c_left_8_ones = pts_add_one(c_left_8)\n",
    "c_right_8_ones = pts_add_one(c_right_8)\n",
    "for i in range(8):\n",
    "    print(np.dot(np.dot(c_left_8_ones[i],re_F),c_right_8_ones[i]))"
   ]
  },
  {
   "cell_type": "code",
   "execution_count": null,
   "metadata": {},
   "outputs": [],
   "source": [
    "# エピポーララインの計算\n",
    "img_width = c_left_img.shape[1]\n",
    "epi_para_left = np.dot(c_left_8_ones, re_F)\n",
    "epi_para_right = np.dot(c_right_8_ones, re_F.T)\n",
    "r_img_epiline_s, r_img_epiline_f = cal_lines(img_width, epi_para_left)\n",
    "l_img_epiline_s, l_img_epiline_f = cal_lines(img_width, epi_para_right)"
   ]
  },
  {
   "cell_type": "code",
   "execution_count": null,
   "metadata": {},
   "outputs": [],
   "source": [
    "lined_c_left = draw_line(np.copy(pted_c_left), l_img_epiline_s, l_img_epiline_f, colors)\n",
    "plt.figure(figsize=(15,15))\n",
    "plt.axis(\"off\")\n",
    "plt.imshow(lined_c_left)\n",
    "save_img(lined_c_left, \"made_image/8lined_c_left.png\")"
   ]
  },
  {
   "cell_type": "code",
   "execution_count": null,
   "metadata": {},
   "outputs": [],
   "source": [
    "lined_c_right = draw_line(np.copy(pted_c_right), r_img_epiline_s, r_img_epiline_f, colors)\n",
    "plt.figure(figsize=(15,15))\n",
    "plt.axis(\"off\")\n",
    "plt.imshow(lined_c_right)\n",
    "save_img(lined_c_right,\"made_image/8lined_c_right.png\")"
   ]
  },
  {
   "cell_type": "code",
   "execution_count": null,
   "metadata": {},
   "outputs": [],
   "source": [
    "# 検証用エピポーラ線\n",
    "c_left_check_ones = pts_add_one(c_left_check)\n",
    "c_right_check_ones = pts_add_one(c_right_check)\n",
    "epi_para_left_check = np.dot(c_left_check_ones, re_F)\n",
    "epi_para_right_check = np.dot(c_right_check_ones, re_F.T)\n",
    "r_epiline_check_s, r_epiline_check_f = cal_lines(img_width, epi_para_left_check)\n",
    "l_epiline_check_s, l_epiline_check_f = cal_lines(img_width, epi_para_right_check)"
   ]
  },
  {
   "cell_type": "code",
   "execution_count": null,
   "metadata": {},
   "outputs": [],
   "source": [
    "c_left_check"
   ]
  },
  {
   "cell_type": "code",
   "execution_count": null,
   "metadata": {},
   "outputs": [],
   "source": [
    "lined_c_left_check = draw_line(np.copy(c_left_img), l_epiline_check_s, l_epiline_check_f, colors)\n",
    "lined_c_left_check = draw_pts(np.copy(lined_c_left_check), c_left_check, colors)\n",
    "plt.figure(figsize=(15,15))\n",
    "plt.axis(\"off\")\n",
    "plt.imshow(lined_c_left_check)\n",
    "save_img(lined_c_left_check, \"made_image/8lined_c_left_check.png\")"
   ]
  },
  {
   "cell_type": "code",
   "execution_count": null,
   "metadata": {},
   "outputs": [],
   "source": [
    "lined_c_right_check = draw_line(np.copy(c_right_img), r_epiline_check_s, r_epiline_check_f, colors)\n",
    "lined_c_right_check = draw_pts(np.copy(lined_c_right_check), c_right_check, colors)\n",
    "plt.figure(figsize=(15,15))\n",
    "plt.axis(\"off\")\n",
    "plt.imshow(lined_c_right_check)\n",
    "save_img(lined_c_right_check, \"made_image/8lined_c_right_check.png\")"
   ]
  },
  {
   "cell_type": "markdown",
   "metadata": {},
   "source": [
    "## 13点で計算"
   ]
  },
  {
   "cell_type": "code",
   "execution_count": null,
   "metadata": {},
   "outputs": [],
   "source": [
    "# 13点の位置（左）\n",
    "colors = rand_color(len(c_left_13))\n",
    "pted_c_left = draw_pts(np.copy(c_left_img), c_left_13, colors)\n",
    "pted_c_left = write_number(np.copy(pted_c_left), c_left_13, colors)\n",
    "plt.figure(figsize=(15,15))\n",
    "plt.axis(\"off\")\n",
    "plt.imshow(pted_c_left)\n",
    "save_img(pted_c_left, \"made_image/13pted_c_left.png\")"
   ]
  },
  {
   "cell_type": "code",
   "execution_count": null,
   "metadata": {},
   "outputs": [],
   "source": [
    "pted_c_right = draw_pts(np.copy(c_right_img), c_right_13, colors)\n",
    "pted_c_right = write_number(np.copy(pted_c_right), c_right_13, colors)\n",
    "plt.figure(figsize=(15,15))\n",
    "plt.axis(\"off\")\n",
    "plt.imshow(pted_c_right)\n",
    "save_img(pted_c_right, \"made_image/13pted_c_right.png\")"
   ]
  },
  {
   "cell_type": "code",
   "execution_count": null,
   "metadata": {},
   "outputs": [],
   "source": [
    "# Fの計算\n",
    "A = A_mat(c_left_13, c_right_13)\n",
    "F = cal_F(A)\n",
    "re_F = reconst_F(F)\n",
    "F_det = np.linalg.det(re_F)\n",
    "F_eig, v = np.linalg.eig(re_F)\n",
    "print(F_det)\n",
    "print(\"\")\n",
    "print(F_eig)\n",
    "print(\"\")\n",
    "print(re_F)\n",
    "np.savetxt('F_mat/c13_F_mat.csv', re_F, delimiter=',', fmt='%f')"
   ]
  },
  {
   "cell_type": "code",
   "execution_count": null,
   "metadata": {},
   "outputs": [],
   "source": [
    "# m1 F m2 = 0 の確認\n",
    "c_left_13_ones = pts_add_one(c_left_13)\n",
    "c_right_13_ones = pts_add_one(c_right_13)\n",
    "for i in range(13):\n",
    "    print(np.dot(np.dot(c_left_13_ones[i],re_F),c_right_13_ones[i]))"
   ]
  },
  {
   "cell_type": "code",
   "execution_count": null,
   "metadata": {},
   "outputs": [],
   "source": [
    "img_width = c_left_img.shape[1]\n",
    "epi_para_left = np.dot(c_left_13_ones, re_F)\n",
    "epi_para_right = np.dot(c_right_13_ones, re_F.T)\n",
    "r_img_epiline_s, r_img_epiline_f = cal_lines(img_width, epi_para_left)\n",
    "l_img_epiline_s, l_img_epiline_f = cal_lines(img_width, epi_para_right)"
   ]
  },
  {
   "cell_type": "code",
   "execution_count": null,
   "metadata": {},
   "outputs": [],
   "source": [
    "lined_c_left = draw_line(np.copy(pted_c_left), l_img_epiline_s, l_img_epiline_f, colors)\n",
    "plt.figure(figsize=(15,15))\n",
    "plt.axis(\"off\")\n",
    "plt.imshow(lined_c_left)\n",
    "save_img(lined_c_left,\"made_image/13lined_c_left.png\")"
   ]
  },
  {
   "cell_type": "code",
   "execution_count": null,
   "metadata": {},
   "outputs": [],
   "source": [
    "lined_c_right = draw_line(np.copy(pted_c_right), r_img_epiline_s, r_img_epiline_f, colors)\n",
    "plt.figure(figsize=(15,15))\n",
    "plt.axis(\"off\")\n",
    "plt.imshow(lined_c_right)\n",
    "save_img(lined_c_right,\"made_image/13lined_c_right.png\")"
   ]
  },
  {
   "cell_type": "code",
   "execution_count": null,
   "metadata": {},
   "outputs": [],
   "source": [
    "# 検証用エピポーラ線\n",
    "c_left_check_ones = pts_add_one(c_left_check)\n",
    "c_right_check_ones = pts_add_one(c_right_check)\n",
    "epi_para_left_check = np.dot(c_left_check_ones, re_F)\n",
    "epi_para_right_check = np.dot(c_right_check_ones, re_F.T)\n",
    "r_epiline_check_s, r_epiline_check_f = cal_lines(img_width, epi_para_left_check)\n",
    "l_epiline_check_s, l_epiline_check_f = cal_lines(img_width, epi_para_right_check)"
   ]
  },
  {
   "cell_type": "code",
   "execution_count": null,
   "metadata": {},
   "outputs": [],
   "source": [
    "lined_c_left_check = draw_line(np.copy(c_left_img), l_epiline_check_s, l_epiline_check_f, colors)\n",
    "lined_c_left_check = draw_pts(np.copy(lined_c_left_check), c_left_check, colors)\n",
    "plt.figure(figsize=(15,15))\n",
    "plt.axis(\"off\")\n",
    "plt.imshow(lined_c_left_check)\n",
    "save_img(lined_c_left_check,\"made_image/13lined_c_left_check.png\")"
   ]
  },
  {
   "cell_type": "code",
   "execution_count": null,
   "metadata": {},
   "outputs": [],
   "source": [
    "lined_c_right_check = draw_line(np.copy(c_right_img), r_epiline_check_s, r_epiline_check_f, colors)\n",
    "lined_c_right_check = draw_pts(np.copy(lined_c_right_check), c_right_check, colors)\n",
    "plt.figure(figsize=(15,15))\n",
    "plt.axis(\"off\")\n",
    "plt.imshow(lined_c_right_check)\n",
    "save_img(lined_c_right_check,\"made_image/13lined_c_right_check.png\")"
   ]
  },
  {
   "cell_type": "markdown",
   "metadata": {},
   "source": [
    "# 遠近"
   ]
  },
  {
   "cell_type": "code",
   "execution_count": null,
   "metadata": {},
   "outputs": [],
   "source": [
    "# 画像\n",
    "d_left_img = cv2.imread('image/d_left.jpg')\n",
    "d_left_img = cv2.cvtColor(d_left_img, cv2.COLOR_BGR2RGB)\n",
    "plt.figure(figsize=(15,15))\n",
    "plt.axis(\"off\")\n",
    "plt.imshow(d_left_img)\n",
    "save_img(d_left_img,\"made_image/d_left_img.png\")"
   ]
  },
  {
   "cell_type": "code",
   "execution_count": null,
   "metadata": {},
   "outputs": [],
   "source": [
    "d_right_img = cv2.imread('image/d_right.jpg')\n",
    "d_right_img = cv2.cvtColor(d_right_img, cv2.COLOR_BGR2RGB)\n",
    "plt.figure(figsize=(15,15))\n",
    "plt.axis(\"off\")\n",
    "plt.imshow(d_right_img)\n",
    "save_img(d_right_img,\"made_image/d_right_img.png\")"
   ]
  },
  {
   "cell_type": "code",
   "execution_count": null,
   "metadata": {},
   "outputs": [],
   "source": [
    "# 8点，13点で計算．最後の三つは検証用\n",
    "d_left_csv = np.loadtxt(\"csv/d_left.csv\", delimiter=',').astype(np.uint32)\n",
    "d_right_csv = np.loadtxt(\"csv/d_right.csv\", delimiter=',').astype(np.uint32)\n",
    "d_left_8 = d_left_csv[:8,:]\n",
    "d_left_13 = d_left_csv[:13,:]\n",
    "d_left_check = d_left_csv[13:,:]\n",
    "d_right_8 = d_right_csv[:8,:]\n",
    "d_right_13 = d_right_csv[:13,:]\n",
    "d_right_check = d_right_csv[13:,:]"
   ]
  },
  {
   "cell_type": "markdown",
   "metadata": {},
   "source": [
    "## 8点で計算"
   ]
  },
  {
   "cell_type": "code",
   "execution_count": null,
   "metadata": {},
   "outputs": [],
   "source": [
    "# 8点の位置（左）\n",
    "colors = rand_color(len(d_left_8))\n",
    "pted_d_left = draw_pts(np.copy(d_left_img), d_left_8, colors)\n",
    "pted_d_left = write_number(np.copy(pted_d_left), d_left_8, colors)\n",
    "plt.figure(figsize=(15,15))\n",
    "plt.axis(\"off\")\n",
    "plt.imshow(pted_d_left)\n",
    "save_img(pted_d_left,\"made_image/8pted_d_left.png\")"
   ]
  },
  {
   "cell_type": "code",
   "execution_count": null,
   "metadata": {},
   "outputs": [],
   "source": [
    "pted_d_right = draw_pts(np.copy(d_right_img), d_right_8, colors)\n",
    "pted_d_right = write_number(np.copy(pted_d_right), d_right_8, colors)\n",
    "plt.figure(figsize=(15,15))\n",
    "plt.axis(\"off\")\n",
    "plt.imshow(pted_d_right)\n",
    "save_img(pted_d_right,\"made_image/8pted_d_right.png\")"
   ]
  },
  {
   "cell_type": "code",
   "execution_count": null,
   "metadata": {},
   "outputs": [],
   "source": [
    "# Fの計算\n",
    "A = A_mat(d_left_8, d_right_8)\n",
    "F = cal_F(A)\n",
    "re_F = reconst_F(F)\n",
    "F_det = np.linalg.det(re_F)\n",
    "F_eig, v = np.linalg.eig(re_F)\n",
    "print(F_det)\n",
    "print(\"\")\n",
    "print(F_eig)\n",
    "print(\"\")\n",
    "print(re_F)\n",
    "np.savetxt('F_mat/d8_F_mat.csv', re_F, delimiter=',', fmt='%.7e')"
   ]
  },
  {
   "cell_type": "code",
   "execution_count": null,
   "metadata": {},
   "outputs": [],
   "source": [
    "# m1 F m2 = 0 の確認\n",
    "d_left_8_ones = pts_add_one(d_left_8)\n",
    "d_right_8_ones = pts_add_one(d_right_8)\n",
    "for i in range(8):\n",
    "    print(np.dot(np.dot(d_left_8_ones[i],re_F),d_right_8_ones[i]))"
   ]
  },
  {
   "cell_type": "code",
   "execution_count": null,
   "metadata": {},
   "outputs": [],
   "source": [
    "# エピポーララインの計算\n",
    "img_width = d_left_img.shape[1]\n",
    "epi_para_left = np.dot(d_left_8_ones, re_F)\n",
    "epi_para_right = np.dot(d_right_8_ones, re_F.T)\n",
    "r_img_epiline_s, r_img_epiline_f = cal_lines(img_width, epi_para_left)\n",
    "l_img_epiline_s, l_img_epiline_f = cal_lines(img_width, epi_para_right)"
   ]
  },
  {
   "cell_type": "code",
   "execution_count": null,
   "metadata": {},
   "outputs": [],
   "source": [
    "lined_d_left = draw_line(np.copy(pted_d_left), l_img_epiline_s, l_img_epiline_f, colors)\n",
    "plt.figure(figsize=(15,15))\n",
    "plt.axis(\"off\")\n",
    "plt.imshow(lined_d_left)\n",
    "save_img(lined_d_left,\"made_image/8lined_d_left.png\")"
   ]
  },
  {
   "cell_type": "code",
   "execution_count": null,
   "metadata": {},
   "outputs": [],
   "source": [
    "lined_d_right = draw_line(np.copy(pted_d_right), r_img_epiline_s, r_img_epiline_f, colors)\n",
    "plt.figure(figsize=(15,15))\n",
    "plt.axis(\"off\")\n",
    "plt.imshow(lined_d_right)\n",
    "save_img(lined_d_right,\"made_image/8lined_d_right.png\")"
   ]
  },
  {
   "cell_type": "code",
   "execution_count": null,
   "metadata": {},
   "outputs": [],
   "source": [
    "# 検証用エピポーラ線\n",
    "d_left_check_ones = pts_add_one(d_left_check)\n",
    "d_right_check_ones = pts_add_one(d_right_check)\n",
    "epi_para_left_check = np.dot(d_left_check_ones, re_F)\n",
    "epi_para_right_check = np.dot(d_right_check_ones, re_F.T)\n",
    "r_epiline_check_s, r_epiline_check_f = cal_lines(img_width, epi_para_left_check)\n",
    "l_epiline_check_s, l_epiline_check_f = cal_lines(img_width, epi_para_right_check)"
   ]
  },
  {
   "cell_type": "code",
   "execution_count": null,
   "metadata": {},
   "outputs": [],
   "source": [
    "lined_d_left_check = draw_line(np.copy(d_left_img), l_epiline_check_s, l_epiline_check_f, colors)\n",
    "lined_d_left_check = draw_pts(np.copy(lined_d_left_check), d_left_check, colors)\n",
    "plt.figure(figsize=(15,15))\n",
    "plt.axis(\"off\")\n",
    "plt.imshow(lined_d_left_check)\n",
    "save_img(lined_d_left_check,\"made_image/8lined_d_left_check.png\")"
   ]
  },
  {
   "cell_type": "code",
   "execution_count": null,
   "metadata": {},
   "outputs": [],
   "source": [
    "lined_d_right_check = draw_line(np.copy(d_right_img), r_epiline_check_s, r_epiline_check_f, colors)\n",
    "lined_d_right_check = draw_pts(np.copy(lined_d_right_check), d_right_check, colors)\n",
    "plt.figure(figsize=(15,15))\n",
    "plt.axis(\"off\")\n",
    "plt.imshow(lined_d_right_check)\n",
    "save_img(lined_d_right_check,\"made_image/8lined_d_right_check.png\")"
   ]
  },
  {
   "cell_type": "markdown",
   "metadata": {},
   "source": [
    "## 13点で検証"
   ]
  },
  {
   "cell_type": "code",
   "execution_count": null,
   "metadata": {},
   "outputs": [],
   "source": [
    "# 13点の位置（左）\n",
    "colors = rand_color(len(d_left_13))\n",
    "pted_d_left = draw_pts(np.copy(d_left_img), d_left_13, colors)\n",
    "pted_d_left = write_number(np.copy(pted_d_left), d_left_13, colors)\n",
    "plt.figure(figsize=(15,15))\n",
    "plt.axis(\"off\")\n",
    "plt.imshow(pted_d_left)\n",
    "save_img(pted_d_left,\"made_image/13pted_d_left.png\")"
   ]
  },
  {
   "cell_type": "code",
   "execution_count": null,
   "metadata": {},
   "outputs": [],
   "source": [
    "pted_d_right = draw_pts(np.copy(d_right_img), d_right_13, colors)\n",
    "pted_d_right = write_number(np.copy(pted_d_right), d_right_13, colors)\n",
    "plt.figure(figsize=(15,15))\n",
    "plt.axis(\"off\")\n",
    "plt.imshow(pted_d_right)\n",
    "save_img(pted_d_right,\"made_image/13pted_d_right.png\")"
   ]
  },
  {
   "cell_type": "code",
   "execution_count": null,
   "metadata": {},
   "outputs": [],
   "source": [
    "# Fの計算\n",
    "A = A_mat(d_left_13, d_right_13)\n",
    "F = cal_F(A)\n",
    "re_F = reconst_F(F)\n",
    "F_det = np.linalg.det(re_F)\n",
    "F_eig, v = np.linalg.eig(re_F)\n",
    "print(F_det)\n",
    "print(\"\")\n",
    "print(F_eig)\n",
    "print(\"\")\n",
    "print(re_F)\n",
    "np.savetxt('F_mat/d13_F_mat.csv', re_F, delimiter=',', fmt='%.8e')"
   ]
  },
  {
   "cell_type": "code",
   "execution_count": null,
   "metadata": {},
   "outputs": [],
   "source": [
    "# m1 F m2 = 0 の確認\n",
    "d_left_13_ones = pts_add_one(d_left_13)\n",
    "d_right_13_ones = pts_add_one(d_right_13)\n",
    "for i in range(13):\n",
    "    print(np.dot(np.dot(d_left_13_ones[i],re_F),d_right_13_ones[i]))"
   ]
  },
  {
   "cell_type": "code",
   "execution_count": null,
   "metadata": {},
   "outputs": [],
   "source": [
    "img_width = d_left_img.shape[1]\n",
    "epi_para_left = np.dot(d_left_13_ones, re_F)\n",
    "epi_para_right = np.dot(d_right_13_ones, re_F.T)\n",
    "r_img_epiline_s, r_img_epiline_f = cal_lines(img_width, epi_para_left)\n",
    "l_img_epiline_s, l_img_epiline_f = cal_lines(img_width, epi_para_right)"
   ]
  },
  {
   "cell_type": "code",
   "execution_count": null,
   "metadata": {},
   "outputs": [],
   "source": [
    "lined_d_left = draw_line(np.copy(pted_d_left), l_img_epiline_s, l_img_epiline_f, colors)\n",
    "plt.figure(figsize=(15,15))\n",
    "plt.axis(\"off\")\n",
    "plt.imshow(lined_d_left)\n",
    "save_img(lined_d_left, \"made_image/13lined_d_left.png\")"
   ]
  },
  {
   "cell_type": "code",
   "execution_count": null,
   "metadata": {},
   "outputs": [],
   "source": [
    "lined_d_right = draw_line(np.copy(pted_d_right), r_img_epiline_s, r_img_epiline_f, colors)\n",
    "plt.figure(figsize=(15,15))\n",
    "plt.axis(\"off\")\n",
    "plt.imshow(lined_d_right)\n",
    "save_img(lined_d_right, \"made_image/13lined_d_right.png\")"
   ]
  },
  {
   "cell_type": "code",
   "execution_count": null,
   "metadata": {},
   "outputs": [],
   "source": [
    "# 検証用エピポーラ線\n",
    "d_left_check_ones = pts_add_one(d_left_check)\n",
    "d_right_check_ones = pts_add_one(d_right_check)\n",
    "epi_para_left_check = np.dot(d_left_check_ones, re_F)\n",
    "epi_para_right_check = np.dot(d_right_check_ones, re_F.T)\n",
    "r_epiline_check_s, r_epiline_check_f = cal_lines(img_width, epi_para_left_check)\n",
    "l_epiline_check_s, l_epiline_check_f = cal_lines(img_width, epi_para_right_check)"
   ]
  },
  {
   "cell_type": "code",
   "execution_count": null,
   "metadata": {},
   "outputs": [],
   "source": [
    "lined_d_left_check = draw_line(np.copy(d_left_img), l_epiline_check_s, l_epiline_check_f, colors)\n",
    "lined_d_left_check = draw_pts(np.copy(lined_d_left_check), d_left_check, colors)\n",
    "plt.figure(figsize=(15,15))\n",
    "plt.axis(\"off\")\n",
    "plt.imshow(lined_d_left_check)\n",
    "save_img(lined_d_left_check,\"made_image/13lined_d_left_check.png\")"
   ]
  },
  {
   "cell_type": "code",
   "execution_count": null,
   "metadata": {},
   "outputs": [],
   "source": [
    "lined_d_right_check = draw_line(np.copy(d_right_img), r_epiline_check_s, r_epiline_check_f, colors)\n",
    "lined_d_right_check = draw_pts(np.copy(lined_d_right_check), d_right_check, colors)\n",
    "plt.figure(figsize=(15,15))\n",
    "plt.axis(\"off\")\n",
    "plt.imshow(lined_d_right_check)\n",
    "save_img(lined_d_right_check,\"made_image/13lined_d_right_check.png\")"
   ]
  },
  {
   "cell_type": "code",
   "execution_count": null,
   "metadata": {},
   "outputs": [],
   "source": []
  },
  {
   "cell_type": "code",
   "execution_count": null,
   "metadata": {},
   "outputs": [],
   "source": []
  },
  {
   "cell_type": "code",
   "execution_count": null,
   "metadata": {},
   "outputs": [],
   "source": []
  }
 ],
 "metadata": {
  "kernelspec": {
   "display_name": "Python 3",
   "language": "python",
   "name": "python3"
  },
  "language_info": {
   "codemirror_mode": {
    "name": "ipython",
    "version": 3
   },
   "file_extension": ".py",
   "mimetype": "text/x-python",
   "name": "python",
   "nbconvert_exporter": "python",
   "pygments_lexer": "ipython3",
   "version": "3.7.7"
  }
 },
 "nbformat": 4,
 "nbformat_minor": 4
}
