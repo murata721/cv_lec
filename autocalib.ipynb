{
 "cells": [
  {
   "cell_type": "code",
   "execution_count": 1,
   "metadata": {},
   "outputs": [],
   "source": [
    "import numpy as np\n",
    "import sympy\n",
    "from scipy import linalg"
   ]
  },
  {
   "cell_type": "code",
   "execution_count": 29,
   "metadata": {},
   "outputs": [],
   "source": [
    "sympy.var(\"e11 e12 e13\")\n",
    "vece1 = sympy.Matrix([e11, e12, e13])\n",
    "sympy.var(\"t\")\n",
    "vect = sympy.Matrix([1, t, 0])\n",
    "sympy.var(\"a1 a2\")\n",
    "matA1 = sympy.Matrix([[a1, 0, 4000/2], [0, a1, 2250/2], [0, 0, 1]]) # 4000× 2250 pixelのため\n",
    "matA2 = sympy.Matrix([[a2, 0, 4000/2], [0, a2, 2250/2], [0, 0, 1]])\n",
    "sympy.var(\"f11 f12 f13 f21 f22 f23 f31 f32 f33\")\n",
    "matF = sympy.Matrix([[f11, f12, f13], [f21, f22, f23], [f31, f32, f33]])"
   ]
  },
  {
   "cell_type": "code",
   "execution_count": 30,
   "metadata": {},
   "outputs": [],
   "source": [
    "tmp1 =matA1.transpose()*vece1.cross(vect)\n",
    "p_tmp1 = sympy.Poly(tmp1.dot(tmp1), t)\n",
    "k10 = p_tmp1.coeff_monomial(t**0)\n",
    "k11 = p_tmp1.coeff_monomial(t**1)\n",
    "k12 = p_tmp1.coeff_monomial(t**2)"
   ]
  },
  {
   "cell_type": "code",
   "execution_count": 31,
   "metadata": {},
   "outputs": [],
   "source": [
    "tmp2 =matA2.transpose()*matF.transpose()*vect\n",
    "p_tmp2 = sympy.Poly(tmp2.dot(tmp2), t)\n",
    "k20 = p_tmp2.coeff_monomial(t**0)\n",
    "k21 = p_tmp2.coeff_monomial(t**1)\n",
    "k22 = p_tmp2.coeff_monomial(t**2)"
   ]
  },
  {
   "cell_type": "code",
   "execution_count": 32,
   "metadata": {},
   "outputs": [],
   "source": [
    "c_Fmat = np.loadtxt('F_mat/c_F_mat.csv', delimiter=',')\n",
    "d_Fmat = np.loadtxt('F_mat/d_F_mat.csv', delimiter=',')"
   ]
  },
  {
   "cell_type": "code",
   "execution_count": 33,
   "metadata": {},
   "outputs": [],
   "source": [
    "test_Fmat = np.array([[-0.00165067, -0.00302917, 0.0224756], \n",
    "                       [0.0156798, -0.00798849, -0.209402], \n",
    "                       [0.00316947, 0.146741, -0.0588552]])"
   ]
  },
  {
   "cell_type": "code",
   "execution_count": 34,
   "metadata": {},
   "outputs": [],
   "source": [
    "u,s,v = np.linalg.svd(c_Fmat.T)\n",
    "epi = v[2]/v[2][2]\n",
    "_e11, _e12, _e13 = epi\n",
    "_f11, _f12, _f13, _f21, _f22, _f23, _f31, _f32, _f33 = c_Fmat.reshape(9)"
   ]
  },
  {
   "cell_type": "code",
   "execution_count": 35,
   "metadata": {},
   "outputs": [
    {
     "data": {
      "text/plain": [
       "array([ 8.24863939e-04, -3.62850790e-05, -1.80126262e-07])"
      ]
     },
     "execution_count": 35,
     "metadata": {},
     "output_type": "execute_result"
    }
   ],
   "source": [
    "np.dot(epi, c_Fmat)"
   ]
  },
  {
   "cell_type": "code",
   "execution_count": 36,
   "metadata": {
    "scrolled": true
   },
   "outputs": [],
   "source": [
    "p_tmp1 = sympy.Poly(k10*k21 - k11*k20, (a1, a2)).collect((a2))\n",
    "sympy.var(\"a12 a22\")\n",
    "eqn1 = p_tmp1.subs([(a1**2, a12), (a2**2, a22),\n",
    "                    (e11, _e11), (e12, _e12), (e13, _e13),\n",
    "                    (f11, _f11), (f12, _f12), (f13, _f13),\n",
    "                    (f21, _f21), (f22, _f22), (f23, _f23),\n",
    "                    (f31, _f31), (f32, _f32), (f33, _f33)])"
   ]
  },
  {
   "cell_type": "code",
   "execution_count": 37,
   "metadata": {},
   "outputs": [],
   "source": [
    "p_tmp2 = sympy.Poly(k11*k22 - k21*k12, (a1, a2)).collect(a2)\n",
    "sympy.var(\"a12 a22\")\n",
    "eqn2 = p_tmp2.subs([(a1**2, a12),(a2**2, a22),\n",
    "                    (e11, _e11), (e12, _e12), (e13, _e13),\n",
    "                    (f11, _f11), (f12, _f12), (f13, _f13),\n",
    "                    (f21, _f21), (f22, _f22), (f23, _f23),\n",
    "                    (f31, _f31), (f32, _f32), (f33, _f33)])"
   ]
  },
  {
   "cell_type": "code",
   "execution_count": 38,
   "metadata": {},
   "outputs": [],
   "source": [
    "A = sympy.solve([eqn1, eqn2], (a12, a22))[0]"
   ]
  },
  {
   "cell_type": "code",
   "execution_count": 41,
   "metadata": {},
   "outputs": [],
   "source": [
    "a12 = int(A[0])\n",
    "a22 = int(A[1])\n",
    "a12_sqrt = a12**(1/2)\n",
    "a22_sqrt = a22**(1/2)"
   ]
  },
  {
   "cell_type": "code",
   "execution_count": 43,
   "metadata": {},
   "outputs": [
    {
     "name": "stdout",
     "output_type": "stream",
     "text": [
      "1374.6617765836074 1452.892976099754\n"
     ]
    }
   ],
   "source": [
    "print(a12**(1/2), a22**(1/2))"
   ]
  },
  {
   "cell_type": "markdown",
   "metadata": {},
   "source": [
    "u,s,v = np.linalg.svd(d_Fmat.T)\n",
    "epi = v[2]/v[2][2]\n",
    "_e11, _e12, _e13 = epi\n",
    "_f11, _f12, _f13, _f21, _f22, _f23, _f31, _f32, _f33 = d_Fmat.reshape(9)"
   ]
  },
  {
   "cell_type": "markdown",
   "metadata": {},
   "source": [
    "np.dot(epi, d_Fmat)"
   ]
  },
  {
   "cell_type": "markdown",
   "metadata": {},
   "source": [
    "p_tmp1 = sympy.Poly(k10*k21 - k11*k20, (a1, a2)).collect((a2))\n",
    "sympy.var(\"a12 a22\")\n",
    "eqn1 = p_tmp1.subs([(a1**2, a12), (a2**2, a22),\n",
    "                    (e11, _e11), (e12, _e12), (e13, _e13),\n",
    "                    (f11, _f11), (f12, _f12), (f13, _f13),\n",
    "                    (f21, _f21), (f22, _f22), (f23, _f23),\n",
    "                    (f31, _f31), (f32, _f32), (f33, _f33)])\n",
    "\n",
    "p_tmp2 = sympy.Poly(k11*k22 - k21*k12, (a1, a2)).collect(a2)\n",
    "sympy.var(\"a12 a22\")\n",
    "eqn2 = p_tmp2.subs([(a1**2, a12),(a2**2, a22),\n",
    "                    (e11, _e11), (e12, _e12), (e13, _e13),\n",
    "                    (f11, _f11), (f12, _f12), (f13, _f13),\n",
    "                    (f21, _f21), (f22, _f22), (f23, _f23),\n",
    "                    (f31, _f31), (f32, _f32), (f33, _f33)])"
   ]
  },
  {
   "cell_type": "markdown",
   "metadata": {},
   "source": [
    "A = sympy.solve([eqn1, eqn2], (a12, a22))[0]\n",
    "a12 = int(A[0])\n",
    "a22 = int(A[1])\n",
    "print(a12**(1/2), a22**(1/2))"
   ]
  },
  {
   "cell_type": "code",
   "execution_count": 44,
   "metadata": {},
   "outputs": [],
   "source": [
    "u,s,v = np.linalg.svd(c_Fmat.T)\n",
    "epi = v[2]/v[2][2]\n",
    "_e11, _e12, _e13 = epi\n",
    "_f11, _f12, _f13, _f21, _f22, _f23, _f31, _f32, _f33 = c_Fmat.reshape(9)"
   ]
  },
  {
   "cell_type": "code",
   "execution_count": 45,
   "metadata": {},
   "outputs": [
    {
     "data": {
      "text/plain": [
       "array([ 8.24863939e-04, -3.62850790e-05, -1.80126262e-07])"
      ]
     },
     "execution_count": 45,
     "metadata": {},
     "output_type": "execute_result"
    }
   ],
   "source": [
    "np.dot(epi, c_Fmat)"
   ]
  },
  {
   "cell_type": "code",
   "execution_count": 131,
   "metadata": {},
   "outputs": [],
   "source": [
    "sympy.var(\"e11 e12 e13\")\n",
    "vece1 = sympy.Matrix([e11, e12, e13])\n",
    "sympy.var(\"t\")\n",
    "vect = sympy.Matrix([1, t, 0])\n",
    "sympy.var(\"a1 a2\")\n",
    "matA1 = sympy.Matrix([[(a12_sqrt+a22_sqrt)/2, 0, 2000], [0, (a12_sqrt+a22_sqrt)/2, a1], [0, 0, 1]]) # 画像中心を求める\n",
    "matA2 = sympy.Matrix([[(a12_sqrt+a22_sqrt)/2, 0, 2000], [0, (a12_sqrt+a22_sqrt)/2, a1], [0, 0, 1]])\n",
    "sympy.var(\"f11 f12 f13 f21 f22 f23 f31 f32 f33\")\n",
    "matF = sympy.Matrix([[f11, f12, f13], [f21, f22, f23], [f31, f32, f33]])\n",
    "\n",
    "tmp1 =matA1.transpose()*vece1.cross(vect)\n",
    "p_tmp1 = sympy.Poly(tmp1.dot(tmp1), t)\n",
    "k10 = p_tmp1.coeff_monomial(t**0)\n",
    "k11 = p_tmp1.coeff_monomial(t**1)\n",
    "k12 = p_tmp1.coeff_monomial(t**2)\n",
    "\n",
    "tmp2 =matA2.transpose()*matF.transpose()*vect\n",
    "p_tmp2 = sympy.Poly(tmp2.dot(tmp2), t)\n",
    "k20 = p_tmp2.coeff_monomial(t**0)\n",
    "k21 = p_tmp2.coeff_monomial(t**1)\n",
    "k22 = p_tmp2.coeff_monomial(t**2)"
   ]
  },
  {
   "cell_type": "code",
   "execution_count": 132,
   "metadata": {},
   "outputs": [],
   "source": [
    "p_tmp1 = sympy.Poly(k10*k21 - k11*k20, (a1, a2)).collect((a2))\n",
    "sympy.var(\"a12 a22\")\n",
    "eqn1 = p_tmp1.subs([#(a1**2, a12), (a2**2, a22),\n",
    "                    (e11, _e11), (e12, _e12), (e13, _e13),\n",
    "                    (f11, _f11), (f12, _f12), (f13, _f13),\n",
    "                    (f21, _f21), (f22, _f22), (f23, _f23),\n",
    "                    (f31, _f31), (f32, _f32), (f33, _f33)])\n",
    "\n",
    "p_tmp2 = sympy.Poly(k11*k22 - k21*k12, (a1, a2)).collect(a2)\n",
    "sympy.var(\"a12 a22\")\n",
    "eqn2 = p_tmp2.subs([#(a1**2, a12),(a2**2, a22),\n",
    "                    (e11, _e11), (e12, _e12), (e13, _e13),\n",
    "                    (f11, _f11), (f12, _f12), (f13, _f13),\n",
    "                    (f21, _f21), (f22, _f22), (f23, _f23),\n",
    "                    (f31, _f31), (f32, _f32), (f33, _f33)])"
   ]
  },
  {
   "cell_type": "code",
   "execution_count": 133,
   "metadata": {},
   "outputs": [
    {
     "data": {
      "text/latex": [
       "$\\displaystyle - 8.04 \\cdot 10^{-9} a_{1}^{4} + 3.41361987570737 \\cdot 10^{-5} a_{1}^{3} - 0.0830898171398014 a_{1}^{2} + 88.921648509287 a_{1} + 2454.72477016381$"
      ],
      "text/plain": [
       "-8.04e-9*a1**4 + 3.41361987570737e-5*a1**3 - 0.0830898171398014*a1**2 + 88.921648509287*a1 + 2454.72477016381"
      ]
     },
     "execution_count": 133,
     "metadata": {},
     "output_type": "execute_result"
    }
   ],
   "source": [
    "eqn1"
   ]
  },
  {
   "cell_type": "code",
   "execution_count": 134,
   "metadata": {},
   "outputs": [
    {
     "data": {
      "text/latex": [
       "$\\displaystyle 8.18771900219794 \\cdot 10^{-6} a_{1}^{3} - 0.20801788360483 a_{1}^{2} + 592.831286465194 a_{1} - 462047.51101899$"
      ],
      "text/plain": [
       "8.18771900219794e-6*a1**3 - 0.20801788360483*a1**2 + 592.831286465194*a1 - 462047.51101899"
      ]
     },
     "execution_count": 134,
     "metadata": {},
     "output_type": "execute_result"
    }
   ],
   "source": [
    "eqn2"
   ]
  },
  {
   "cell_type": "code",
   "execution_count": 135,
   "metadata": {},
   "outputs": [],
   "source": [
    "A = sympy.solve([eqn1, eqn2], (a1, a2))"
   ]
  },
  {
   "cell_type": "code",
   "execution_count": 136,
   "metadata": {},
   "outputs": [
    {
     "data": {
      "text/plain": [
       "[]"
      ]
     },
     "execution_count": 136,
     "metadata": {},
     "output_type": "execute_result"
    }
   ],
   "source": [
    "A"
   ]
  },
  {
   "cell_type": "code",
   "execution_count": 137,
   "metadata": {},
   "outputs": [
    {
     "data": {
      "text/plain": [
       "[(-26.9207463504090,),\n",
       " (1910.38390240151,),\n",
       " (1181.16635462829 - 2131.07079975432*I,),\n",
       " (1181.16635462829 + 2131.07079975432*I,)]"
      ]
     },
     "execution_count": 137,
     "metadata": {},
     "output_type": "execute_result"
    }
   ],
   "source": [
    "sympy.solve([eqn1], (a1))"
   ]
  },
  {
   "cell_type": "code",
   "execution_count": 138,
   "metadata": {},
   "outputs": [
    {
     "data": {
      "text/plain": [
       "[(22268.4232244526,),\n",
       " (1568.83080709642 - 270.057601561909*I,),\n",
       " (1568.83080709642 + 270.057601561909*I,)]"
      ]
     },
     "execution_count": 138,
     "metadata": {},
     "output_type": "execute_result"
    }
   ],
   "source": [
    "sympy.solve([eqn2], (a1))"
   ]
  },
  {
   "cell_type": "code",
   "execution_count": null,
   "metadata": {},
   "outputs": [],
   "source": []
  }
 ],
 "metadata": {
  "kernelspec": {
   "display_name": "Python 3",
   "language": "python",
   "name": "python3"
  },
  "language_info": {
   "codemirror_mode": {
    "name": "ipython",
    "version": 3
   },
   "file_extension": ".py",
   "mimetype": "text/x-python",
   "name": "python",
   "nbconvert_exporter": "python",
   "pygments_lexer": "ipython3",
   "version": "3.7.7"
  }
 },
 "nbformat": 4,
 "nbformat_minor": 4
}
