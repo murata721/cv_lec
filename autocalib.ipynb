{
 "cells": [
  {
   "cell_type": "code",
   "execution_count": null,
   "metadata": {},
   "outputs": [],
   "source": [
    "import numpy as np\n",
    "import sympy\n",
    "from scipy import linalg\n",
    "from scipy.linalg import null_space"
   ]
  },
  {
   "cell_type": "code",
   "execution_count": null,
   "metadata": {},
   "outputs": [],
   "source": [
    "sympy.var(\"e11 e12 e13\")\n",
    "vece1 = sympy.Matrix([e11, e12, e13])\n",
    "sympy.var(\"t\")\n",
    "vect = sympy.Matrix([1, t, 0])\n",
    "sympy.var(\"a1 a2\")\n",
    "matA1 = sympy.Matrix([[a1, 0, 4000/2], [0, a1, 2250/2], [0, 0, 1]]) # 4000 × 2250 pixelのため\n",
    "matA2 = sympy.Matrix([[a2, 0, 4000/2], [0, a2, 2250/2], [0, 0, 1]])\n",
    "sympy.var(\"f11 f12 f13 f21 f22 f23 f31 f32 f33\")\n",
    "matF = sympy.Matrix([[f11, f12, f13], [f21, f22, f23], [f31, f32, f33]])"
   ]
  },
  {
   "cell_type": "code",
   "execution_count": null,
   "metadata": {},
   "outputs": [],
   "source": [
    "tmp1 =matA1.transpose()*vece1.cross(vect)\n",
    "p_tmp1 = sympy.Poly(tmp1.dot(tmp1), t)\n",
    "k10 = p_tmp1.coeff_monomial(t**0)\n",
    "k11 = p_tmp1.coeff_monomial(t**1)\n",
    "k12 = p_tmp1.coeff_monomial(t**2)"
   ]
  },
  {
   "cell_type": "code",
   "execution_count": null,
   "metadata": {},
   "outputs": [],
   "source": [
    "tmp2 =matA2.transpose()*matF.transpose()*vect\n",
    "p_tmp2 = sympy.Poly(tmp2.dot(tmp2), t)\n",
    "k20 = p_tmp2.coeff_monomial(t**0)\n",
    "k21 = p_tmp2.coeff_monomial(t**1)\n",
    "k22 = p_tmp2.coeff_monomial(t**2)"
   ]
  },
  {
   "cell_type": "code",
   "execution_count": null,
   "metadata": {},
   "outputs": [],
   "source": [
    "d8_Fmat = np.loadtxt('F_mat/d8_F_mat.csv', delimiter=',')\n",
    "d13_Fmat = np.loadtxt('F_mat/d13_F_mat.csv', delimiter=',')"
   ]
  },
  {
   "cell_type": "code",
   "execution_count": null,
   "metadata": {},
   "outputs": [],
   "source": [
    "test_Fmat = np.array([[-0.00165067, -0.00302917, 0.0224756], \n",
    "                       [0.0156798, -0.00798849, -0.209402], \n",
    "                       [0.00316947, 0.146741, -0.0588552]])"
   ]
  },
  {
   "cell_type": "code",
   "execution_count": null,
   "metadata": {},
   "outputs": [],
   "source": [
    "u,s,v = np.linalg.svd(d8_Fmat.T)\n",
    "epi = v[2]/v[2][2]\n",
    "_e11, _e12, _e13 = epi\n",
    "_f11, _f12, _f13, _f21, _f22, _f23, _f31, _f32, _f33 = d8_Fmat.reshape(9)"
   ]
  },
  {
   "cell_type": "code",
   "execution_count": null,
   "metadata": {},
   "outputs": [],
   "source": [
    "np.dot(epi, d8_Fmat)"
   ]
  },
  {
   "cell_type": "code",
   "execution_count": null,
   "metadata": {
    "scrolled": true
   },
   "outputs": [],
   "source": [
    "p_tmp1 = sympy.Poly(k10*k21 - k11*k20, (a1, a2)).collect((a2))\n",
    "sympy.var(\"a12 a22\")\n",
    "eqn1 = p_tmp1.subs([(a1**2, a12), (a2**2, a22),\n",
    "                    (e11, _e11), (e12, _e12), (e13, _e13),\n",
    "                    (f11, _f11), (f12, _f12), (f13, _f13),\n",
    "                    (f21, _f21), (f22, _f22), (f23, _f23),\n",
    "                    (f31, _f31), (f32, _f32), (f33, _f33)])"
   ]
  },
  {
   "cell_type": "code",
   "execution_count": null,
   "metadata": {},
   "outputs": [],
   "source": [
    "p_tmp2 = sympy.Poly(k11*k22 - k21*k12, (a1, a2)).collect(a2)\n",
    "sympy.var(\"a12 a22\")\n",
    "eqn2 = p_tmp2.subs([(a1**2, a12),(a2**2, a22),\n",
    "                    (e11, _e11), (e12, _e12), (e13, _e13),\n",
    "                    (f11, _f11), (f12, _f12), (f13, _f13),\n",
    "                    (f21, _f21), (f22, _f22), (f23, _f23),\n",
    "                    (f31, _f31), (f32, _f32), (f33, _f33)])"
   ]
  },
  {
   "cell_type": "code",
   "execution_count": null,
   "metadata": {},
   "outputs": [],
   "source": [
    "A = sympy.solve([eqn1, eqn2], (a12, a22))[0]"
   ]
  },
  {
   "cell_type": "code",
   "execution_count": null,
   "metadata": {},
   "outputs": [],
   "source": [
    "a12 = int(A[0])\n",
    "a22 = int(A[1])\n",
    "a12_sqrt = a12**(1/2)\n",
    "a22_sqrt = a22**(1/2)"
   ]
  },
  {
   "cell_type": "code",
   "execution_count": null,
   "metadata": {},
   "outputs": [],
   "source": [
    "print(a12**(1/2), a22**(1/2))"
   ]
  },
  {
   "cell_type": "code",
   "execution_count": null,
   "metadata": {},
   "outputs": [],
   "source": [
    "u,s,v = np.linalg.svd(d13_Fmat.T)\n",
    "epi = v[2]/v[2][2]\n",
    "_e11, _e12, _e13 = epi\n",
    "_f11, _f12, _f13, _f21, _f22, _f23, _f31, _f32, _f33 = d13_Fmat.reshape(9)"
   ]
  },
  {
   "cell_type": "code",
   "execution_count": null,
   "metadata": {},
   "outputs": [],
   "source": [
    "np.dot(epi, d13_Fmat)"
   ]
  },
  {
   "cell_type": "code",
   "execution_count": null,
   "metadata": {},
   "outputs": [],
   "source": [
    "p_tmp1 = sympy.Poly(k10*k21 - k11*k20, (a1, a2)).collect((a2))\n",
    "sympy.var(\"a12 a22\")\n",
    "eqn1 = p_tmp1.subs([(a1**2, a12), (a2**2, a22),\n",
    "                    (e11, _e11), (e12, _e12), (e13, _e13),\n",
    "                    (f11, _f11), (f12, _f12), (f13, _f13),\n",
    "                    (f21, _f21), (f22, _f22), (f23, _f23),\n",
    "                    (f31, _f31), (f32, _f32), (f33, _f33)])\n",
    "\n",
    "p_tmp2 = sympy.Poly(k11*k22 - k21*k12, (a1, a2)).collect(a2)\n",
    "sympy.var(\"a12 a22\")\n",
    "eqn2 = p_tmp2.subs([(a1**2, a12),(a2**2, a22),\n",
    "                    (e11, _e11), (e12, _e12), (e13, _e13),\n",
    "                    (f11, _f11), (f12, _f12), (f13, _f13),\n",
    "                    (f21, _f21), (f22, _f22), (f23, _f23),\n",
    "                    (f31, _f31), (f32, _f32), (f33, _f33)])"
   ]
  },
  {
   "cell_type": "code",
   "execution_count": null,
   "metadata": {},
   "outputs": [],
   "source": [
    "A = sympy.solve([eqn1, eqn2], (a12, a22))[0]\n",
    "a12 = int(A[0])\n",
    "a22 = int(A[1])\n",
    "print(a12**(1/2), a22**(1/2))"
   ]
  }
 ],
 "metadata": {
  "kernelspec": {
   "display_name": "Python 3",
   "language": "python",
   "name": "python3"
  },
  "language_info": {
   "codemirror_mode": {
    "name": "ipython",
    "version": 3
   },
   "file_extension": ".py",
   "mimetype": "text/x-python",
   "name": "python",
   "nbconvert_exporter": "python",
   "pygments_lexer": "ipython3",
   "version": "3.7.7"
  }
 },
 "nbformat": 4,
 "nbformat_minor": 4
}
